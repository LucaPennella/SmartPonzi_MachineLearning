{
 "cells": [
  {
   "cell_type": "code",
   "execution_count": 1,
   "id": "f475caab-b86f-4749-ac07-0f6fed192db4",
   "metadata": {},
   "outputs": [],
   "source": [
    "import pandas as pd\n",
    "import numpy as np\n",
    "import requests\n",
    "import certifi\n",
    "from pyevmasm import instruction_tables, disassemble_hex, disassemble_all, assemble_hex\n",
    "import warnings\n",
    "warnings.simplefilter(action='ignore', category=FutureWarning)"
   ]
  },
  {
   "cell_type": "code",
   "execution_count": 2,
   "id": "6f6a27eb-4dfb-4b28-926c-4b42fd18de9c",
   "metadata": {},
   "outputs": [],
   "source": [
    "addresses = pd.read_csv(r\"/Users/lucapennella/Desktop/Smart Ponzi/addresses.csv\")\n",
    "left_ds = pd.read_csv(r\"/Users/lucapennella/Desktop/Smart Ponzi/Dataset/dataset.csv\")"
   ]
  },
  {
   "cell_type": "code",
   "execution_count": 3,
   "id": "18b947e8-4023-4c1f-a49e-1da8b35df5b1",
   "metadata": {},
   "outputs": [],
   "source": [
    "addr_list = []\n",
    "bytecode_list = {}\n",
    "opcode_list = {}"
   ]
  },
  {
   "cell_type": "code",
   "execution_count": 4,
   "id": "00ee128f-b3cf-4ad5-94cd-57dee4e81623",
   "metadata": {},
   "outputs": [],
   "source": [
    "for addr in addresses['address']: #creo una lista con tutti gli address\n",
    "      addr_list.append(addr)"
   ]
  },
  {
   "cell_type": "code",
   "execution_count": 5,
   "id": "9fd461e1-8646-46b6-9007-8c2afe6be1e1",
   "metadata": {},
   "outputs": [],
   "source": [
    "for addr in addr_list: # ciclo su tutti gli indirizzi presenti nella lista\n",
    "    normal_tx_url = \"https://api.etherscan.io/api?module=account&action=txlist&address=\" + addr + \\\n",
    "                   \"&startblock=0&endblock=99999999&page=1&offset=10000&sort=asc&apikey=SAKUKN5G8E7R2IYIWI2IVS7ZRKXDAX8NE6\"\n",
    "    response_normal = requests.get(normal_tx_url, verify = certifi.where()) # la get restituisce un Response obj\n",
    "    address_content_normal = response_normal.json() # la risposta e' in formato json, si ottiene un dizionario python\n",
    "    result_normal = address_content_normal.get('result') # facendo la get e si ottiene tutto cio' che sta dopo result, si ottiene una lista\n",
    "    \n",
    "    for t in result_normal:\n",
    "        if (t['to'] == ''): # prendo l'oggetto json con la creazione del contratto che ha il to = ''\n",
    "            bytecode = (t['input']) # aggiungo il valore della chiave input che è uguale al bytecode\n",
    "            bytecode_list[addr]=bytecode # faccio append con l'obiettivo di creare una lista con tutti i bytecode."
   ]
  },
  {
   "cell_type": "code",
   "execution_count": 6,
   "id": "3d6cbb27-b639-4372-9859-687b2b5a8e87",
   "metadata": {},
   "outputs": [],
   "source": [
    "# creo una lista di bytecode\n",
    "for k in bytecode_list.keys():\n",
    "    opcode = disassemble_hex(bytecode_list[k])# conversione bytecode in opcode\n",
    "    opcode_list[k] = opcode"
   ]
  },
  {
   "cell_type": "code",
   "execution_count": 7,
   "id": "5c23bbcb-f7f3-4cc4-85fb-a9ee318ed428",
   "metadata": {},
   "outputs": [],
   "source": [
    "df_full_comm = pd.DataFrame()\n",
    "for addr in opcode_list.keys():\n",
    "    row = []\n",
    "    list_comm = pd.Series(opcode_list[addr].split('\\n')) \n",
    "    list_comm = list_comm.str.replace(\"PUSH.*\", \"PUSH\")\n",
    "    list_comm = list_comm.str.replace(\"DUP.*\", \"DUP\")\n",
    "    list_comm = list_comm.str.replace(\"SWAP.*\", \"SWAP\")\n",
    "    list_comm = list_comm.str.replace(\"LOG.*\", \"LOG\")\n",
    "    df_comm = pd.DataFrame(list_comm.value_counts())\n",
    "    df_comm = df_comm.T\n",
    "    df_comm['address'] = [addr]\n",
    "    df_full_comm = pd.concat([df_full_comm,df_comm] )"
   ]
  },
  {
   "cell_type": "code",
   "execution_count": 8,
   "id": "6dea5713-85e8-4f32-8899-cc4872c1c787",
   "metadata": {},
   "outputs": [],
   "source": [
    "#df_full_comm"
   ]
  },
  {
   "cell_type": "code",
   "execution_count": 9,
   "id": "c8e0b299-f240-42c7-9f47-6bf4717bd4aa",
   "metadata": {},
   "outputs": [],
   "source": [
    "#df_full_comm.to_csv(r\"/Users/lucapennella/Desktop/Smart Ponzi/bytecode_decode.csv\" , index=False)"
   ]
  },
  {
   "cell_type": "code",
   "execution_count": 10,
   "id": "c2259300-f3b0-44e8-a89b-a9e10611c54c",
   "metadata": {},
   "outputs": [],
   "source": [
    "df_full = pd.merge(left_ds, df_full_comm, how='left', on = 'address')\n",
    "df_full.to_csv(r\"/Users/lucapennella/Desktop/Smart Ponzi/bytecode_decode.csv\" , index=False)"
   ]
  }
 ],
 "metadata": {
  "kernelspec": {
   "display_name": "Python 3 (ipykernel)",
   "language": "python",
   "name": "python3"
  },
  "language_info": {
   "codemirror_mode": {
    "name": "ipython",
    "version": 3
   },
   "file_extension": ".py",
   "mimetype": "text/x-python",
   "name": "python",
   "nbconvert_exporter": "python",
   "pygments_lexer": "ipython3",
   "version": "3.9.13"
  }
 },
 "nbformat": 4,
 "nbformat_minor": 5
}
